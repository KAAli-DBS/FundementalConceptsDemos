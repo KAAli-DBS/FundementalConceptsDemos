{
  "nbformat": 4,
  "nbformat_minor": 0,
  "metadata": {
    "colab": {
      "provenance": [],
      "authorship_tag": "ABX9TyNbgt9Zjta1G9pYl3t8nPVh",
      "include_colab_link": true
    },
    "kernelspec": {
      "name": "python3",
      "display_name": "Python 3"
    },
    "language_info": {
      "name": "python"
    }
  },
  "cells": [
    {
      "cell_type": "markdown",
      "metadata": {
        "id": "view-in-github",
        "colab_type": "text"
      },
      "source": [
        "<a href=\"https://colab.research.google.com/github/KAAli-DBS/JS-FundementalConceptsDemos/blob/main/script_js.ipynb\" target=\"_parent\"><img src=\"https://colab.research.google.com/assets/colab-badge.svg\" alt=\"Open In Colab\"/></a>"
      ]
    },
    {
      "cell_type": "markdown",
      "source": [
        "!apt-get purge nodejs npm\n",
        "\n",
        "!apt-get install -y nodejs\n",
        "\n",
        "!apt-get install -y npm\n",
        "\n",
        "!npm install sqlite3"
      ],
      "metadata": {
        "id": "pNy1TjScoS-V"
      }
    },
    {
      "cell_type": "markdown",
      "source": [],
      "metadata": {
        "id": "YEOvwM20t27Z"
      }
    },
    {
      "cell_type": "markdown",
      "source": [
        "Ctrl+Shift+I"
      ],
      "metadata": {
        "id": "HIVo3A8lv6K6"
      }
    },
    {
      "cell_type": "code",
      "source": [
        "%%javascript\n",
        "console.log(\"Hello World\")"
      ],
      "metadata": {
        "colab": {
          "base_uri": "https://localhost:8080/",
          "height": 17
        },
        "id": "TmIuVMs7tbKw",
        "outputId": "331f7b91-8a3a-4066-8c7d-df0d668f85ac"
      },
      "execution_count": null,
      "outputs": [
        {
          "output_type": "display_data",
          "data": {
            "text/plain": [
              "<IPython.core.display.Javascript object>"
            ],
            "application/javascript": [
              "console.log(\"Hello World\")\n"
            ]
          },
          "metadata": {}
        }
      ]
    },
    {
      "cell_type": "code",
      "source": [
        "%%javascript\n",
        "const studentInfo = {\n",
        "    name: \"First-Name Last-Name \",\n",
        "    age: 20,\n",
        "    course: \"Programming for Information Systems\"\n",
        "};\n",
        "\n",
        "// Convert the JSON object to a string\n",
        "const studentJSON = JSON.stringify(studentInfo, null, 2);\n",
        "\n",
        "// Create a file for download\n",
        "const blob = new Blob([studentJSON], { type: \"application/json\" });\n",
        "\n",
        "// The line const link = document.createElement(\"a\");\n",
        "// in JavaScript is used to dynamically create an HTML anchor (<a>) element in the browser's document.\n",
        "const link = document.createElement(\"a\");\n",
        "\n",
        "link.href = URL.createObjectURL(blob);\n",
        "//link.download = \"student_info.json\";\n",
        "link.click();"
      ],
      "metadata": {
        "colab": {
          "base_uri": "https://localhost:8080/",
          "height": 17
        },
        "id": "Qz6TxBDwknax",
        "outputId": "66a6ace1-5049-40ed-ef13-0d4fbfc0811e"
      },
      "execution_count": null,
      "outputs": [
        {
          "output_type": "display_data",
          "data": {
            "text/plain": [
              "<IPython.core.display.Javascript object>"
            ],
            "application/javascript": [
              "const studentInfo = {\n",
              "    name: \"First-Name Last-Name \",\n",
              "    age: 20,\n",
              "    course: \"Programming for Information Systems\"\n",
              "};\n",
              "\n",
              "// Convert the JSON object to a string\n",
              "const studentJSON = JSON.stringify(studentInfo, null, 2);\n",
              "\n",
              "// Create a file for download\n",
              "const blob = new Blob([studentJSON], { type: \"application/json\" });\n",
              "\n",
              "// The line const link = document.createElement(\"a\");\n",
              "// in JavaScript is used to dynamically create an HTML anchor (<a>) element in the browser's document.\n",
              "const link = document.createElement(\"a\");\n",
              "\n",
              "link.href = URL.createObjectURL(blob);\n",
              "link.download = \"student_info.json\";\n",
              "link.click();\n"
            ]
          },
          "metadata": {}
        }
      ]
    },
    {
      "cell_type": "markdown",
      "source": [
        "Create a Class of **Student** with the following properties:\n",
        "\n",
        "*   Name, StudentID, ProgramOfStudy\n",
        "*   saveDetails() for saving the Student's details\n",
        "\n",
        "\n",
        "\n",
        "\n",
        "---\n",
        "\n"
      ],
      "metadata": {
        "id": "XYO2TBiUnnqU"
      }
    },
    {
      "cell_type": "code",
      "source": [
        "%%javascript\n",
        "class Student {\n",
        "    constructor(name, studentID, programOfStudy) {\n",
        "        this.name = name;\n",
        "        this.studentID = studentID;\n",
        "        this.programOfStudy = programOfStudy;\n",
        "    }\n",
        "    saveDetails() {\n",
        "        return `Name: ${this.name}, StudentID: ${this.studentID}, Program of Study: ${this.programOfStudy}`;\n",
        "    }\n",
        "}\n",
        "\n",
        "let student1 = new Student(\"Ratan Tata\", \"S12345\", \"Computer Science\");\n",
        "//let student2 = new Student(\"Narayana Murthy\", \"S12306\", \"Software Engineering\");\n",
        "//let student3 = new Student(\"Mark Zuckerberg\", \"S12312\", \"Software Engineering\");\n",
        "//let student4 = new Student(\"Jeff Bezos\", \"S12314\", \"Computer Science\");\n",
        "//let student5 = new Student(\"Steve Jobs\", \"S12318\", \"Computer Science\");\n",
        "\n",
        "console.log(student1.saveDetails());\n",
        "\n",
        "let studentDetails = student1.saveDetails();\n",
        "\n",
        "document.body.innerHTML = `<h3>Student Details:</h3><p>${studentDetails}</p>`;"
      ],
      "metadata": {
        "colab": {
          "base_uri": "https://localhost:8080/",
          "height": 83
        },
        "id": "hc8rgx8764r8",
        "outputId": "676bb273-3559-47e7-b2cd-b7c29f036296"
      },
      "execution_count": null,
      "outputs": [
        {
          "output_type": "display_data",
          "data": {
            "text/plain": [
              "<IPython.core.display.Javascript object>"
            ],
            "application/javascript": [
              "class Student {\n",
              "    constructor(name, studentID, programOfStudy) {\n",
              "        this.name = name;\n",
              "        this.studentID = studentID;\n",
              "        this.programOfStudy = programOfStudy;\n",
              "    }\n",
              "    saveDetails() {\n",
              "        return `Name: ${this.name}, StudentID: ${this.studentID}, Program of Study: ${this.programOfStudy}`;\n",
              "    }\n",
              "}\n",
              "\n",
              "let student1 = new Student(\"Ratan Tata\", \"S12345\", \"Computer Science\");\n",
              "//let student2 = new Student(\"Narayana Murthy\", \"S12306\", \"Software Engineering\");\n",
              "//let student3 = new Student(\"Mark Zuckerberg\", \"S12312\", \"Software Engineering\");\n",
              "//let student4 = new Student(\"Jeff Bezos\", \"S12314\", \"Computer Science\");\n",
              "//let student5 = new Student(\"Steve Jobs\", \"S12318\", \"Computer Science\");\n",
              "\n",
              "console.log(student1.saveDetails());\n",
              "\n",
              "let studentDetails = student1.saveDetails();\n",
              "\n",
              "document.body.innerHTML = `<h3>Student Details:</h3><p>${studentDetails}</p>`;\n"
            ]
          },
          "metadata": {}
        }
      ]
    },
    {
      "cell_type": "code",
      "source": [
        "%%javascript\n",
        "class Student {\n",
        "    constructor(name, studentID, programOfStudy) {\n",
        "        this.name = name;\n",
        "        this.studentID = studentID;\n",
        "        this.programOfStudy = programOfStudy;\n",
        "    }\n",
        "\n",
        "    saveDetails() {\n",
        "        return {\n",
        "            name: this.name,\n",
        "            studentID: this.studentID,\n",
        "            programOfStudy: this.programOfStudy\n",
        "        };\n",
        "    }\n",
        "}\n",
        "let students = [\n",
        "    new Student(\"Ratan Tata\", \"S12345\", \"Computer Science\"),\n",
        "    new Student(\"Narayana Murthy\", \"S12306\", \"Software Engineering\"),\n",
        "    new Student(\"Mark Zuckerberg\", \"S12312\", \"Software Engineering\"),\n",
        "    new Student(\"Jeff Bezos\", \"S12314\", \"Computer Science\"),\n",
        "    new Student(\"Steve Jobs\", \"S12318\", \"Computer Science\")\n",
        "];\n",
        "\n",
        "// Function to convert student data to JSON and download it\n",
        "function saveToJSON(students) {\n",
        "    const studentsData = students.map(student => student.saveDetails());\n",
        "    const jsonData = JSON.stringify(studentsData, null, 2);\n",
        "    const blob = new Blob([jsonData], { type: \"application/json\" });\n",
        "    const a = document.createElement(\"a\");\n",
        "    a.href = URL.createObjectURL(blob);\n",
        "    a.download = \"students.json\";\n",
        "}\n",
        "\n",
        "// Trigger save to JSON\n",
        "saveToJSON(students);"
      ],
      "metadata": {
        "colab": {
          "base_uri": "https://localhost:8080/",
          "height": 17
        },
        "id": "z_VcCYWj8yhV",
        "outputId": "38f52b12-f2c5-409a-c2c2-7ac12dd7bc19"
      },
      "execution_count": null,
      "outputs": [
        {
          "output_type": "display_data",
          "data": {
            "text/plain": [
              "<IPython.core.display.Javascript object>"
            ],
            "application/javascript": [
              "// Student class definition\n",
              "class Student {\n",
              "    constructor(name, studentID, programOfStudy) {\n",
              "        this.name = name;\n",
              "        this.studentID = studentID;\n",
              "        this.programOfStudy = programOfStudy;\n",
              "    }\n",
              "    \n",
              "    saveDetails() {\n",
              "        return {\n",
              "            name: this.name,\n",
              "            studentID: this.studentID,\n",
              "            programOfStudy: this.programOfStudy\n",
              "        };\n",
              "    }\n",
              "}\n",
              "\n",
              "// Create student instances\n",
              "let students = [\n",
              "    new Student(\"Ratan Tata\", \"S12345\", \"Computer Science\"),\n",
              "    new Student(\"Narayana Murthy\", \"S12306\", \"Software Engineering\"),\n",
              "    new Student(\"Mark Zuckerberg\", \"S12312\", \"Software Engineering\"),\n",
              "    new Student(\"Jeff Bezos\", \"S12314\", \"Computer Science\"),\n",
              "    new Student(\"Steve Jobs\", \"S12318\", \"Computer Science\")\n",
              "];\n",
              "\n",
              "// Function to convert student data to JSON and download it\n",
              "function saveToJSON(students) {\n",
              "    const studentsData = students.map(student => student.saveDetails());\n",
              "    \n",
              "    // Convert student data to JSON string\n",
              "    const jsonData = JSON.stringify(studentsData, null, 2);\n",
              "    \n",
              "    // Create a Blob object from the JSON data\n",
              "    const blob = new Blob([jsonData], { type: \"application/json\" });\n",
              "    \n",
              "    // Create a download link for the JSON file\n",
              "    const a = document.createElement(\"a\");\n",
              "    a.href = URL.createObjectURL(blob);\n",
              "    a.download = \"students.json\";  // Filename for the JSON file\n",
              "    a.click();  // Trigger the download\n",
              "}\n",
              "\n",
              "// Trigger save to JSON\n",
              "saveToJSON(students);\n"
            ]
          },
          "metadata": {}
        }
      ]
    },
    {
      "cell_type": "code",
      "source": [
        "%%javascript\n",
        "\n",
        "class Student {\n",
        "    constructor(name, studentID, programOfStudy) {\n",
        "        this.name = name;\n",
        "        this.studentID = studentID;\n",
        "        this.programOfStudy = programOfStudy;\n",
        "    }\n",
        "\n",
        "    saveDetails() {\n",
        "        return {\n",
        "            name: this.name,\n",
        "            studentID: this.studentID,\n",
        "            programOfStudy: this.programOfStudy,\n",
        "        };\n",
        "    }\n",
        "}\n",
        "\n",
        "\n",
        "class StudentOperations {\n",
        "\n",
        "    binarySearch(students, name) {\n",
        "        let low = 0;\n",
        "        let high = students.length - 1;\n",
        "\n",
        "        while (low <= high) {\n",
        "\n",
        "          // The reason for using Math.floor is convert the result to a valid integer index\n",
        "          // Math.floor(3.5) would rethurn 3\n",
        "\n",
        "            const mid = Math.floor((low + high) / 2);\n",
        "\n",
        "          // Comparison is case-sensitive in JavaScript\n",
        "          // \"Ali\" === \"ali\"\n",
        "\n",
        "          // \"Ali\".toLowerCase(); // \"ali\"\n",
        "          // \"ALI\".toLowerCase(); // \"ali\"\n",
        "          // \"AlI\".toLowerCase(); // \"ali\"\n",
        "          // \"ali\".toLowerCase(); // \"ali\"\n",
        "\n",
        "            const studentName = students[mid].name.toLowerCase();\n",
        "\n",
        "            if (studentName === name.toLowerCase()) {\n",
        "                return students[mid];\n",
        "            } else if (studentName < name.toLowerCase()) {\n",
        "                low = mid + 1;\n",
        "            } else {\n",
        "                high = mid - 1;\n",
        "            }\n",
        "        }\n",
        "        return null;\n",
        "    }\n",
        "\n",
        "    sortByName(students) {\n",
        "\n",
        "      // The localeCompare() method compares two strings and returns a numerical value:\n",
        "      // -1 if a.name comes before b.name alphabetically.\n",
        "      // 1 if a.name comes after b.name alphabetically.\n",
        "      // 0 if a.name and b.name are equal.\n",
        "\n",
        "        return students.sort((a, b) => a.name.localeCompare(b.name));\n",
        "    }\n",
        "\n",
        "    exportToJSON(students) {\n",
        "        return JSON.stringify(students.map(student => student.saveDetails()), null, 2);\n",
        "    }\n",
        "}\n",
        "let students = [\n",
        "    new Student(\"Ratan Tata\", \"S12345\", \"Computer Science\"),\n",
        "    new Student(\"Narayana Murthy\", \"S12306\", \"Software Engineering\"),\n",
        "    new Student(\"Mark Zuckerberg\", \"S12312\", \"Software Engineering\"),\n",
        "    new Student(\"Jeff Bezos\", \"S12314\", \"Computer Science\"),\n",
        "    new Student(\"Steve Jobs\", \"S12318\", \"Computer Science\"),\n",
        "];\n",
        "\n",
        "let operations = new StudentOperations();\n",
        "\n",
        "students = operations.sortByName(students);\n",
        "\n",
        "let searchResult = operations.binarySearch(students, \"Mark Zuckerberg\");\n",
        "console.log(\"Search Result:\", searchResult ? searchResult.saveDetails() : \"Student not found\");\n",
        "\n",
        "let jsonData = operations.exportToJSON(students);\n",
        "console.log(\"JSON Export:\", jsonData);\n",
        "\n",
        "// Display the results in the notebook\n",
        "document.body.innerHTML = `\n",
        "    <h3>Search Result:</h3>\n",
        "    <pre>${searchResult ? JSON.stringify(searchResult.saveDetails(), null, 2) : \"Student not found\"}</pre>\n",
        "    <h3>JSON Export:</h3>\n",
        "    <pre>${jsonData}</pre>\n",
        "`;"
      ],
      "metadata": {
        "colab": {
          "base_uri": "https://localhost:8080/",
          "height": 654
        },
        "id": "C2yT3AwKBEvV",
        "outputId": "fae385b2-887d-489f-c5bf-c6771b8768a3"
      },
      "execution_count": null,
      "outputs": [
        {
          "output_type": "display_data",
          "data": {
            "text/plain": [
              "<IPython.core.display.Javascript object>"
            ],
            "application/javascript": [
              "\n",
              "class Student {\n",
              "    constructor(name, studentID, programOfStudy) {\n",
              "        this.name = name;\n",
              "        this.studentID = studentID;\n",
              "        this.programOfStudy = programOfStudy;\n",
              "    }\n",
              "\n",
              "    saveDetails() {\n",
              "        return {\n",
              "            name: this.name,\n",
              "            studentID: this.studentID,\n",
              "            programOfStudy: this.programOfStudy,\n",
              "        };\n",
              "    }\n",
              "}\n",
              "\n",
              "\n",
              "class StudentOperations {\n",
              "\n",
              "    binarySearch(students, name) {\n",
              "        let low = 0;\n",
              "        let high = students.length - 1;\n",
              "\n",
              "        while (low <= high) {\n",
              "\n",
              "          // The reason for using Math.floor is convert the result to a valid integer index\n",
              "          // Math.floor(3.5) would rethurn 3\n",
              "\n",
              "            const mid = Math.floor((low + high) / 2);\n",
              "\n",
              "          // Comparison is case-sensitive in JavaScript\n",
              "          // \"Ali\" === \"ali\"\n",
              "\n",
              "          // \"Ali\".toLowerCase(); // \"ali\"\n",
              "          // \"ALI\".toLowerCase(); // \"ali\"\n",
              "          // \"AlI\".toLowerCase(); // \"ali\"\n",
              "          // \"ali\".toLowerCase(); // \"ali\"\n",
              "\n",
              "            const studentName = students[mid].name.toLowerCase();\n",
              "\n",
              "            if (studentName === name.toLowerCase()) {\n",
              "                return students[mid];\n",
              "            } else if (studentName < name.toLowerCase()) {\n",
              "                low = mid + 1;\n",
              "            } else {\n",
              "                high = mid - 1;\n",
              "            }\n",
              "        }\n",
              "        return null;\n",
              "    }\n",
              "\n",
              "    sortByName(students) {\n",
              "\n",
              "      // The localeCompare() method compares two strings and returns a numerical value:\n",
              "      // -1 if a.name comes before b.name alphabetically.\n",
              "      // 1 if a.name comes after b.name alphabetically.\n",
              "      // 0 if a.name and b.name are equal.\n",
              "\n",
              "        return students.sort((a, b) => a.name.localeCompare(b.name));\n",
              "    }\n",
              "\n",
              "    exportToJSON(students) {\n",
              "        return JSON.stringify(students.map(student => student.saveDetails()), null, 2);\n",
              "    }\n",
              "}\n",
              "let students = [\n",
              "    new Student(\"Ratan Tata\", \"S12345\", \"Computer Science\"),\n",
              "    new Student(\"Narayana Murthy\", \"S12306\", \"Software Engineering\"),\n",
              "    new Student(\"Mark Zuckerberg\", \"S12312\", \"Software Engineering\"),\n",
              "    new Student(\"Jeff Bezos\", \"S12314\", \"Computer Science\"),\n",
              "    new Student(\"Steve Jobs\", \"S12318\", \"Computer Science\"),\n",
              "];\n",
              "\n",
              "let operations = new StudentOperations();\n",
              "\n",
              "students = operations.sortByName(students);\n",
              "\n",
              "let searchResult = operations.binarySearch(students, \"Mark Zuckerberg\");\n",
              "console.log(\"Search Result:\", searchResult ? searchResult.saveDetails() : \"Student not found\");\n",
              "\n",
              "let jsonData = operations.exportToJSON(students);\n",
              "console.log(\"JSON Export:\", jsonData);\n",
              "\n",
              "// Display the results in the notebook\n",
              "document.body.innerHTML = `\n",
              "    <h3>Search Result:</h3>\n",
              "    <pre>${searchResult ? JSON.stringify(searchResult.saveDetails(), null, 2) : \"Student not found\"}</pre>\n",
              "    <h3>JSON Export:</h3>\n",
              "    <pre>${jsonData}</pre>\n",
              "`;\n"
            ]
          },
          "metadata": {}
        }
      ]
    },
    {
      "cell_type": "code",
      "source": [
        "%%javascript\n",
        "\n",
        "function quickSort(arr) {\n",
        "    // Base case: If the array has 0 or 1 element, it's already sorted\n",
        "    if (arr.length <= 1) {\n",
        "        return arr;\n",
        "    }\n",
        "\n",
        "    // Select pivot (for simplicity, we pick the last element)\n",
        "    const pivot = arr[arr.length - 1];\n",
        "\n",
        "    // Partition the array into two sub-arrays: less and greater than pivot\n",
        "    const less = [];\n",
        "    const greater = [];\n",
        "\n",
        "    for (let i = 0; i < arr.length - 1; i++) {\n",
        "        if (arr[i] < pivot) {\n",
        "            less.push(arr[i]);\n",
        "        } else {\n",
        "            greater.push(arr[i]);\n",
        "        }\n",
        "    }\n",
        "\n",
        "    // Recursively apply quickSort to the sub-arrays\n",
        "    return [...quickSort(less), pivot, ...quickSort(greater)];\n",
        "}\n",
        "\n",
        "// Example usage\n",
        "let arr = [3, 6, 8, 10, 1, 2, 1];\n",
        "console.log(\"Quick Sort Result:\", quickSort(arr));"
      ],
      "metadata": {
        "id": "KQ0l-PNsUTr-"
      },
      "execution_count": null,
      "outputs": []
    },
    {
      "cell_type": "code",
      "source": [
        "%%javascript\n",
        "\n",
        "function heapSort(arr) {\n",
        "    const n = arr.length;\n",
        "\n",
        "    // Build a max heap\n",
        "    for (let i = Math.floor(n / 2) - 1; i >= 0; i--) {\n",
        "        heapify(arr, n, i);\n",
        "    }\n",
        "\n",
        "    // Extract elements from the heap one by one\n",
        "    for (let i = n - 1; i > 0; i--) {\n",
        "        // Swap the current root with the last element\n",
        "        [arr[0], arr[i]] = [arr[i], arr[0]];\n",
        "\n",
        "        // Call heapify on the reduced heap\n",
        "        heapify(arr, i, 0);\n",
        "    }\n",
        "\n",
        "    return arr;\n",
        "}\n",
        "\n",
        "// Helper function to maintain the max-heap property\n",
        "function heapify(arr, n, i) {\n",
        "    let largest = i; // Initialize largest as root\n",
        "    const left = 2 * i + 1; // Left child index\n",
        "    const right = 2 * i + 2; // Right child index\n",
        "\n",
        "    // If left child is larger than root\n",
        "    if (left < n && arr[left] > arr[largest]) {\n",
        "        largest = left;\n",
        "    }\n",
        "\n",
        "    // If right child is larger than largest\n",
        "    if (right < n && arr[right] > arr[largest]) {\n",
        "        largest = right;\n",
        "    }\n",
        "\n",
        "    // If largest is not root, swap and recursively heapify the affected subtree\n",
        "    if (largest !== i) {\n",
        "        [arr[i], arr[largest]] = [arr[largest], arr[i]];\n",
        "        heapify(arr, n, largest);\n",
        "    }\n",
        "}\n",
        "\n",
        "// Example usage\n",
        "let arrHeap = [3, 6, 8, 10, 1, 2, 1];\n",
        "console.log(\"Heap Sort Result:\", heapSort(arrHeap));"
      ],
      "metadata": {
        "id": "BEi9Hf5aUXyE"
      },
      "execution_count": null,
      "outputs": []
    },
    {
      "cell_type": "markdown",
      "source": [],
      "metadata": {
        "id": "5nusxEIbUiNw"
      }
    },
    {
      "cell_type": "code",
      "source": [
        "%%javascript\n",
        "\n",
        "// Example: Sorting students by name using Quick Sort\n",
        "let students = [\n",
        "    new Student(\"Ratan Tata\", \"S12345\", \"Computer Science\"),\n",
        "    new Student(\"Narayana Murthy\", \"S12306\", \"Software Engineering\"),\n",
        "    new Student(\"Mark Zuckerberg\", \"S12312\", \"Software Engineering\"),\n",
        "    new Student(\"Jeff Bezos\", \"S12314\", \"Computer Science\"),\n",
        "    new Student(\"Steve Jobs\", \"S12318\", \"Computer Science\")\n",
        "];\n",
        "\n",
        "let sortedStudentsQuickSort = quickSort(students.map(student => student.name));\n",
        "console.log(\"Sorted Students (Quick Sort):\", sortedStudentsQuickSort);"
      ],
      "metadata": {
        "id": "gTsR3Ce6UgAd"
      },
      "execution_count": null,
      "outputs": []
    }
  ]
}